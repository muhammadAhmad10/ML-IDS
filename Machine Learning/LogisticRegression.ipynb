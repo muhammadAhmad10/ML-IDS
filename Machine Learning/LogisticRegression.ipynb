{
 "cells": [
  {
   "cell_type": "code",
   "execution_count": 17,
   "metadata": {},
   "outputs": [
    {
     "name": "stdout",
     "output_type": "stream",
     "text": [
      "[ 7  8  9 12 14 15 16 17 19 21 23 24 26 31 36 39 41 46 54 55 58 61 66 69\n",
      " 71 82 84 86 87 90 91 92 93 95]\n",
      "[ 1  4 10 11 20 25 28 29 37 38 40 42 43 44 47 51 53 56 57 60 64 65 68 70\n",
      " 72 73 78 79 80 83 85 89 96 97]\n",
      "[  0   2   3   5   6  13  18  22  27  30  32  33  34  35  45  48  49  50\n",
      "  52  59  62  63  67  74  75  76  77  81  88  94  98  99 100]\n"
     ]
    }
   ],
   "source": [
    "import pandas as pd\n",
    "from sklearn.model_selection import train_test_split, KFold\n",
    "\n",
    "#reading csv file and choosing 100 rows from that file and creating a new csv file\n",
    "# heartData = pd.read_csv('E:/ML-IDS/datasets/heart-disease/heart.csv')\n",
    "# selectedData = heartData.loc[0:100, ['age','sex','cp','thalach','target']]\n",
    "# selectedData.to_csv('heartData.csv',index=False)\n",
    "\n",
    "\n",
    "#applying train test split on heartData.csv file\n",
    "heartData = pd.read_csv('E:/ML-IDS/datasets/heart-disease/heartData.csv')\n",
    "X = heartData.drop(columns='target')\n",
    "y = heartData['target']\n",
    "# x_train,y_train,x_test,y_test = train_test_split(X,y,test_size=0.33,random_state=12,train_size=0.33)\n",
    "\n",
    "\n",
    "folds = KFold(n_splits=3,random_state=12,shuffle=True)\n",
    "\n",
    "for fold, (train_idx, test_idx) in enumerate(folds.split(X, y)):\n",
    "    # Create a DataFrame to store the train indices and write to a CSV file\n",
    "    print(test_idx)\n",
    "    train_d1 = pd.DataFrame()\n",
    "    train_df = pd.DataFrame({\"train_idx\": train_idx})\n",
    "    train_df.to_csv(f\"fold_{fold+1}_train.csv\", index=False)\n",
    "\n",
    "    # Create a DataFrame to store the test indices and write to a CSV file\n",
    "    test_df = pd.DataFrame({\"test_idx\": test_idx})\n",
    "    test_df.to_csv(f\"fold_{fold+1}_test.csv\", index=False)\n"
   ]
  }
 ],
 "metadata": {
  "kernelspec": {
   "display_name": "base",
   "language": "python",
   "name": "python3"
  },
  "language_info": {
   "codemirror_mode": {
    "name": "ipython",
    "version": 3
   },
   "file_extension": ".py",
   "mimetype": "text/x-python",
   "name": "python",
   "nbconvert_exporter": "python",
   "pygments_lexer": "ipython3",
   "version": "3.9.13"
  },
  "orig_nbformat": 4
 },
 "nbformat": 4,
 "nbformat_minor": 2
}
