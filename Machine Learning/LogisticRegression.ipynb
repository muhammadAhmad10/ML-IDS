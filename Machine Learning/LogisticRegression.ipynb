{
 "cells": [
  {
   "cell_type": "code",
   "execution_count": 5,
   "metadata": {},
   "outputs": [
    {
     "name": "stdout",
     "output_type": "stream",
     "text": [
      "SVC(gamma='auto', random_state=0)\n"
     ]
    }
   ],
   "source": [
    "import pandas as pd\n",
    "from sklearn.model_selection import train_test_split\n",
    "# heartData = pd.read_csv('E:/ML-IDS/datasets/heart-disease/heart.csv')\n",
    "# print(heartData.head())\n",
    "\n",
    "# selectedData = heartData.loc[0:100, ['age','sex','cp','thalach','target']]\n",
    "# print(selectedData)\n",
    "\n",
    "# selectedData.to_csv('heartData.csv',index=False)\n",
    "\n",
    "\n",
    "\n",
    "\n",
    "# heartData = pd.read_csv('E:/ML-IDS/datasets/heart-disease/heartData.csv')\n",
    "# print(heartData.columns)\n",
    "# X = heartData.drop(columns='target')\n",
    "# y = heartData['target']\n",
    "# x_train,y_train,x_test,y_test = train_test_split(X,y,test_size=0.33,random_state=12,train_size=0.33)\n",
    "\n",
    "\n",
    "\n",
    "\n",
    "\n",
    "# print(x_train)\n",
    "# x_train.to_csv('set1.csv',index=False)\n",
    "# y_train.to_csv('set2.csv',index=False)\n",
    "# x_test.to_csv('set3.csv',index=False)\n",
    "# y_test.to_csv('set4.csv',index=False)\n",
    "\n",
    "# print('x train data')\n",
    "# print(x_train.count())\n",
    "# print('y train data')\n",
    "# print(y_train.count())\n",
    "# m = x_train.merge(y_train,how='left',suffixes=['_x','_y'])\n",
    "# print(x_train.head())\n",
    "# print(y_train.head())\n",
    "\n",
    "# print(heartData.head())\n",
    "\n",
    "\n",
    "\n",
    "\n",
    "import pickle\n",
    "\n",
    "with open('svc_trained_model.pkl', 'rb') as f:\n",
    "    data = pickle.load(f)\n",
    "\n",
    "print(data)\n",
    "\n"
   ]
  }
 ],
 "metadata": {
  "kernelspec": {
   "display_name": "base",
   "language": "python",
   "name": "python3"
  },
  "language_info": {
   "codemirror_mode": {
    "name": "ipython",
    "version": 3
   },
   "file_extension": ".py",
   "mimetype": "text/x-python",
   "name": "python",
   "nbconvert_exporter": "python",
   "pygments_lexer": "ipython3",
   "version": "3.9.13"
  },
  "orig_nbformat": 4
 },
 "nbformat": 4,
 "nbformat_minor": 2
}
