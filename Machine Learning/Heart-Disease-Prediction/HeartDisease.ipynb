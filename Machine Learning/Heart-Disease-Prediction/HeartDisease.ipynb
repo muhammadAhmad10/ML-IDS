{
 "cells": [
  {
   "cell_type": "code",
   "execution_count": 2,
   "metadata": {},
   "outputs": [],
   "source": [
    "#importing all the libraries that will be used in Heart Disease Prediction System\n",
    "\n",
    "import numpy as np\n",
    "import pandas as pd\n",
    "import pickle\n",
    "\n",
    "from sklearn.model_selection import KFold,train_test_split\n",
    "from sklearn.svm import SVC\n",
    "from sklearn.linear_model import LogisticRegression\n",
    "from sklearn.metrics import accuracy_score"
   ]
  },
  {
   "cell_type": "code",
   "execution_count": 3,
   "metadata": {},
   "outputs": [],
   "source": [
    "heartData = pd.read_csv('E:/ML-IDS/datasets/heart-disease/heartData.csv')\n",
    "\n",
    "#Separating the input and output from heartData dataset - X is input set and y is output set\n",
    "X = heartData.drop(columns='target')\n",
    "y = heartData['target']\n",
    "\n",
    "#saving input and output data as csv files \n",
    "X.to_csv('heart_disease_input_data.csv',index=False)\n",
    "y.to_csv('heart_disease_output_data.csv',index=False)\n",
    "\n",
    "#reading input and output data from their respective files and then this data will be used in further steps\n",
    "input_data = pd.read_csv('E:/ML-IDS/datasets/heart-disease/heart_disease_input_data.csv')\n",
    "output_data = pd.read_csv('E:/ML-IDS/datasets/heart-disease/heart_disease_output_data.csv')"
   ]
  },
  {
   "cell_type": "code",
   "execution_count": 3,
   "metadata": {},
   "outputs": [],
   "source": [
    "#making folds of dataset to predict model for better accuracy\n",
    "\n",
    "kf = KFold(n_splits=3,shuffle=False)\n",
    "\n",
    "training_data = {};\n",
    "testing_data = {};\n",
    "input_training_data = {};\n",
    "output_training_data = {};\n",
    "input_testing_data = {};\n",
    "output_testing_data = {};\n",
    "no_of_folds = 0;\n",
    "\n",
    "\n",
    "acc_scores = []\n",
    "for train_index, test_index in kf.split(X):\n",
    "\n",
    "\n",
    "    #Training Data\n",
    "    training_data[no_of_folds]=heartData.iloc[train_index]\n",
    "    input_training_data[no_of_folds]=input_data.iloc[train_index]\n",
    "    output_training_data[no_of_folds]=output_data.iloc[train_index]\n",
    "\n",
    "\n",
    "    # Testing Data\n",
    "    testing_data[no_of_folds]=heartData.iloc[test_index]  \n",
    "    input_testing_data[no_of_folds]=input_data.iloc[test_index]\n",
    "    output_testing_data[no_of_folds]=output_data.iloc[test_index]\n",
    "\n",
    "\n",
    "    #saving folds\n",
    "    no_of_folds += 1\n",
    "    training_data[no_of_folds-1].to_csv(r'training-data-iteration-0'+str(no_of_folds)+'.csv', index = False, header = True)\n",
    "    input_training_data[no_of_folds-1].to_csv(r'input-training-data-iteration-0'+str(no_of_folds)+'.csv', index = False, header = True)\n",
    "    output_training_data[no_of_folds-1].to_csv(r'output-training-data-iteration-0'+str(no_of_folds)+'.csv', index = False, header = True)\n",
    "    testing_data[no_of_folds-1].to_csv(r'testing-data-iteration-0'+str(no_of_folds)+'.csv', index = False, header = True)\n",
    "    input_testing_data[no_of_folds-1].to_csv(r'input-testing-data-iteration-0'+str(no_of_folds)+'.csv', index = False, header = True)\n",
    "    output_testing_data[no_of_folds-1].to_csv(r'output-testing-data-iteration-0'+str(no_of_folds)+'.csv', index = False, header = True)\n"
   ]
  },
  {
   "cell_type": "code",
   "execution_count": 4,
   "metadata": {},
   "outputs": [],
   "source": [
    "#saving the trained models which will be trained in bellow cell\n",
    "def save(svc_model):\n",
    "    pickle.dump(svc_model, open('svc_trained_model_0'+str(i+1)+'.pkl', 'wb'))"
   ]
  },
  {
   "cell_type": "code",
   "execution_count": null,
   "metadata": {},
   "outputs": [],
   "source": [
    "#Training the Support Vector Classifier Model\n",
    "\n",
    "for i in range(no_of_folds):\n",
    "    # Train the Models\n",
    "    # svc_model = SVC(gamma='auto',random_state=0)\n",
    "    svc_model = LogisticRegression(random_state=0)\n",
    "    svc_model.fit(input_training_data[i],output_training_data[i])\n",
    "    # make predictions on new input data\n",
    "    predictions = svc_model.predict(input_testing_data[i])\n",
    "    # print the predicted outputs\n",
    "    print(predictions)\n",
    "\n",
    "    save(svc_model)\n",
    "    print(svc_model)\n"
   ]
  },
  {
   "cell_type": "code",
   "execution_count": 6,
   "metadata": {},
   "outputs": [],
   "source": [
    "# Loading the Saved Models\n",
    "\n",
    "svc_trained_model = {}\n",
    "\n",
    "# Load the Saved Models\n",
    "for i in range(no_of_folds):\n",
    "    svc_trained_model[i] = pickle.load(open('svc_trained_model_0'+str(i+1)+'.pkl', 'rb'))"
   ]
  },
  {
   "cell_type": "code",
   "execution_count": null,
   "metadata": {},
   "outputs": [],
   "source": [
    "# Evaluate the Performance of Trained Models\n",
    "\n",
    "\n",
    "# Provide Test data to the Trained Models\n",
    "\n",
    "accuracy_list = []\n",
    "for i in range(no_of_folds): \n",
    "        \n",
    "    model_predications = svc_trained_model[i].predict(input_testing_data[i])\n",
    "    model_predications_data = input_testing_data[i].copy()\n",
    "    model_predications_data[\"Have Disease\"] = output_testing_data[i]\n",
    "    model_predications_data[\"Predictions\"] = model_predications\n",
    "    pd.set_option(\"display.max_rows\", None, \"display.max_columns\", None)\n",
    "    print(model_predications_data)\n",
    "    \n",
    "    # Save the Predictions into CSV File \n",
    "    \n",
    "    model_predications_data.to_csv(r'model-predictions-iteration-0' + str(i+1) + '.csv', index = False, header = True)\n",
    "\n",
    "\n",
    "    # Calculate the Accuracy of each Iteration\n",
    "    \n",
    "    print(\"\\n\\nAccuracy Score:\")\n",
    "    accuracy = accuracy_score(model_predications_data[\"Have Disease\"],model_predications_data[\"Predictions\"])\n",
    "    accuracy_list.append(accuracy);\n",
    "    print(accuracy_list)\n",
    "    for x in accuracy_list:\n",
    "        print(x)\n",
    "    print(round(accuracy,2))\n"
   ]
  },
  {
   "cell_type": "code",
   "execution_count": null,
   "metadata": {},
   "outputs": [],
   "source": [
    "# Calculating the Average/Mean Accuracy\n",
    "\n",
    "print(\"\\n\\nAverage Accuracy Score:\")\n",
    "print(\"=======================\")   \n",
    "accuracy_average = sum(accuracy_list) / len(accuracy_list)\n",
    "print(round(accuracy_average,2))"
   ]
  },
  {
   "cell_type": "code",
   "execution_count": 49,
   "metadata": {},
   "outputs": [],
   "source": [
    "# Take Input from User\n",
    "\n",
    "''' \n",
    "*---------------- TAKE_USER_INPUT ----------------*\n",
    "'''\n",
    "\n",
    "age_input = input(\"\\nPlease enter Age here:  \").strip()\n",
    "gender_input = input(\"\\nPlease enter Gender here (((1 if Male, 0 if Female))) : \").strip()\n",
    "chest_pain_input = input(\"\\nPlease enter Chest Pain here (0,1,2,3) : \").strip()\n",
    "max_heart_rate_input = input(\"\\nPlease enter Maximum Heart Rate Achivied here:  \").strip()"
   ]
  },
  {
   "cell_type": "code",
   "execution_count": null,
   "metadata": {},
   "outputs": [],
   "source": [
    "# Convert User Input into Feature Vector\n",
    "\n",
    "user_input = pd.DataFrame({ 'age': [age_input],'sex': [gender_input],'cp': [chest_pain_input],'thalach': [max_heart_rate_input]})\n",
    "\n",
    "print(\"\\n\\nUser Input Feature Vector:\")\n",
    "print(\"==========================\\n\")\n",
    "print(user_input)\n",
    "\n",
    "\n",
    "unseen_data_features = user_input.copy()"
   ]
  },
  {
   "cell_type": "code",
   "execution_count": null,
   "metadata": {},
   "outputs": [],
   "source": [
    "# Load the Best Model and make prediction\n",
    "# svc_trained_model_01 has Highest Accuracy\n",
    "\n",
    "model = pickle.load(open('svc_trained_model_03.pkl', 'rb'))\n",
    "\n",
    "# Make a Prediction on Unseen Data\n",
    "\n",
    "predicted_survival = model.predict(unseen_data_features)\n",
    "\n",
    "if(predicted_survival == 1): \n",
    "    prediction = \"Have Disease\"\n",
    "if(predicted_survival == 0):\n",
    "    prediction = \"NOT Have Disease\"\n",
    "\n",
    "print(prediction)"
   ]
  },
  {
   "cell_type": "code",
   "execution_count": 10,
   "metadata": {},
   "outputs": [
    {
     "name": "stdout",
     "output_type": "stream",
     "text": [
      "0.8529411764705882\n",
      "\n",
      "\n",
      "User Input Feature Vector:\n",
      "  age sex cp thalach\n",
      "0  58   1  2     165\n",
      "Have Disease\n"
     ]
    }
   ],
   "source": [
    "#Training the model with train test split\n",
    "\n",
    "X_train,y_train,X_test,y_test = train_test_split(X,y,test_size=0.33,random_state=42)\n",
    "\n",
    "logreg = LogisticRegression(random_state=0)\n",
    "logreg.fit(X,y)\n",
    "prediction = logreg.predict(y_train)\n",
    "\n",
    "#saving the trained models which will be trained in bellow cell\n",
    "pickle.dump(logreg, open('logreg_train_test_trained_model.pkl', 'wb'))\n",
    "\n",
    "# Loading the Saved Model\n",
    "logreg_trained_model = pickle.load(open('logreg_train_test_trained_model.pkl', 'rb'))\n",
    "\n",
    "#calculating the accuracy of the model\n",
    "accuracy = accuracy_score(y_pred=prediction,normalize=True,y_true=y_test)\n",
    "print(accuracy)\n",
    "\n",
    "\n",
    "# Take Input from User\n",
    "age_input = input(\"\\nPlease enter Age here:  \").strip()\n",
    "gender_input = input(\"\\nPlease enter Gender here (((1 if Male, 0 if Female))) : \").strip()\n",
    "chest_pain_input = input(\"\\nPlease enter Chest Pain here (0,1,2,3) : \").strip()\n",
    "max_heart_rate_input = input(\"\\nPlease enter Maximum Heart Rate Achivied here:  \").strip()\n",
    "\n",
    "# Convert User Input into Feature Vector\n",
    "user_input = pd.DataFrame({ 'age': [age_input],'sex': [gender_input],'cp': [chest_pain_input],'thalach': [max_heart_rate_input]})\n",
    "print(\"\\n\\nUser Input Feature Vector:\")\n",
    "print(user_input)\n",
    "\n",
    "unseen_data_features = user_input.copy()\n",
    "\n",
    "# Load the Best Model and make prediction\n",
    "\n",
    "logreg_trained_model = pickle.load(open('svc_trained_model_03.pkl', 'rb'))\n",
    "\n",
    "# Make a Prediction on Unseen Data\n",
    "predicted_survival = logreg_trained_model.predict(unseen_data_features)\n",
    "\n",
    "if(predicted_survival == 1): \n",
    "    prediction = \"Have Disease\"\n",
    "if(predicted_survival == 0):\n",
    "    prediction = \"NOT Have Disease\"\n",
    "\n",
    "print(prediction)\n",
    "\n"
   ]
  }
 ],
 "metadata": {
  "kernelspec": {
   "display_name": "base",
   "language": "python",
   "name": "python3"
  },
  "language_info": {
   "codemirror_mode": {
    "name": "ipython",
    "version": 3
   },
   "file_extension": ".py",
   "mimetype": "text/x-python",
   "name": "python",
   "nbconvert_exporter": "python",
   "pygments_lexer": "ipython3",
   "version": "3.9.13"
  },
  "orig_nbformat": 4
 },
 "nbformat": 4,
 "nbformat_minor": 2
}
