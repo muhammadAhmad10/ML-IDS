{
 "cells": [
  {
   "cell_type": "code",
   "execution_count": null,
   "metadata": {},
   "outputs": [],
   "source": [
    "import pickle\n",
    "from sklearn.preprocessing import StandardScaler\n",
    "from flask import Flask, render_template, request\n",
    "\n",
    "app = Flask(__name__)\n",
    "\n",
    "with open('svc_trained_model_03.pkl', 'rb') as f:\n",
    "    model = pickle.load(f)\n",
    "\n",
    "@app.route('/')\n",
    "def home():\n",
    "    return render_template('index.html')\n",
    "\n",
    "@app.route('/predict', methods=['POST'])\n",
    "def predict():\n",
    "    age = int(request.form['age'])\n",
    "    gender = int(request.form['gender'])\n",
    "    chest_pain = int(request.form['chest_pain'])\n",
    "    max_heart_rate = int(request.form['max_heart_rate'])\n",
    "    input_data = [[age, gender, chest_pain, max_heart_rate]]\n",
    "    input_data = StandardScaler().fit_transform(input_data)\n",
    "    prediction = model.predict(input_data)[0]\n",
    "    if prediction == 1:\n",
    "        result = 'Have Disease'\n",
    "    else:\n",
    "        result = 'Not Have Disease'\n",
    "    return render_template('index.html', result=result, age = age, sex=gender, cp=chest_pain, thalach=max_heart_rate)\n",
    "\n",
    "if __name__ == '__main__':\n",
    "    app.run(debug=True,use_reloader=False)\n"
   ]
  }
 ],
 "metadata": {
  "language_info": {
   "name": "python"
  },
  "orig_nbformat": 4
 },
 "nbformat": 4,
 "nbformat_minor": 2
}
